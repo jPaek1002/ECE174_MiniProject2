{
 "cells": [
  {
   "cell_type": "markdown",
   "id": "d49f6ca9",
   "metadata": {},
   "source": [
    "# ECE 174: Mini-Project 2\n",
    "## By: Jay Paek"
   ]
  },
  {
   "cell_type": "markdown",
   "id": "86685527",
   "metadata": {},
   "source": [
    "## Set-Up"
   ]
  },
  {
   "cell_type": "markdown",
   "id": "9e3ac2b8",
   "metadata": {},
   "source": [
    "### Import Required Libraries"
   ]
  },
  {
   "cell_type": "code",
   "execution_count": 308,
   "id": "6928a9e0",
   "metadata": {},
   "outputs": [],
   "source": [
    "import numpy as np\n",
    "import matplotlib.pyplot as plt\n",
    "from mpl_toolkits import mplot3d"
   ]
  },
  {
   "cell_type": "markdown",
   "id": "becead64",
   "metadata": {},
   "source": [
    "### Define Main Variables and Function"
   ]
  },
  {
   "cell_type": "markdown",
   "id": "fcac263a",
   "metadata": {},
   "source": [
    "Define $e$ as Euler's constant."
   ]
  },
  {
   "cell_type": "code",
   "execution_count": 309,
   "id": "3e4c2484",
   "metadata": {},
   "outputs": [
    {
     "data": {
      "text/plain": [
       "2.718281828459045"
      ]
     },
     "execution_count": 309,
     "metadata": {},
     "output_type": "execute_result"
    }
   ],
   "source": [
    "e = np.exp(1)\n",
    "e"
   ]
  },
  {
   "cell_type": "markdown",
   "id": "d3f6f299",
   "metadata": {},
   "source": [
    "$generate\\_data\\_1$ will create $n$ vectors, $\\textbf{x}^{(0)},\\textbf{x}^{(1)},...,\\textbf{x}^{(n-1)} \\in \\mathbb{R}^3$ and $n$ values in $\\mathbb{R}$ that fall under the following conditions defined by the problem set.\n",
    "* For any pair ($\\textbf{x}^{(i)}, y^{(i)}$) such that $i = 0, 1, ..., n-1$ and $\\textbf{x} = \\begin{bmatrix} x^{(i)}_1 & x^{(i)}_2 & x^{(i)}_3\\end{bmatrix}$, $y^{(i)} =  x^{(i)}_1 x^{(i)}_2 + x^{(i)}_3$\n",
    "* The values for $\\textbf{max}\\{x^{(i)}_1 , x^{(i)}_2 , x^{(i)}_3\\} \\leq \\Gamma$ \n",
    "* The values for $x^{(i)}_1 , x^{(i)}_2 , x^{(i)}_3$  are randomly generated under a Gaussian distribution"
   ]
  },
  {
   "cell_type": "code",
   "execution_count": 310,
   "id": "880dad91",
   "metadata": {},
   "outputs": [],
   "source": [
    "def generate_data_1(n, gamma):\n",
    "    data = np.empty((0,3))\n",
    "    out = np.empty((0,1))\n",
    "    for i in range(n):\n",
    "        x = np.random.uniform(-gamma, gamma, (3,))\n",
    "        data = np.vstack((data,x))\n",
    "        out = np.append(out,[x[0]*x[1]+x[2]])\n",
    "    return data, out"
   ]
  },
  {
   "cell_type": "markdown",
   "id": "eda9241b",
   "metadata": {},
   "source": [
    "$d\\_tanh$ will find the derivative at some point $x$ for the hyperbolic tangent function."
   ]
  },
  {
   "cell_type": "code",
   "execution_count": 311,
   "id": "013c8dd0",
   "metadata": {},
   "outputs": [],
   "source": [
    "def d_tanh(x):\n",
    "    return (4*e**(2*x))/((e**(2*x)+1)**2)"
   ]
  },
  {
   "cell_type": "markdown",
   "id": "1cd4ef3d",
   "metadata": {},
   "source": [
    "Define the approximator function:\n",
    "$$f_{\\textbf{w}}(\\textbf{x}) = w_1\\phi(w_2x_1 + w_3x_2 + w_4x_3 + w_5) + w_6\\phi(w_7x_1 + w_8x_2 + w_9x_3 + w_{10}) + w_{11}\\phi(w_{12}x_1 + w_{13}x_2 + w_{14}x_3 + w_{15}) + w_{16}$$\n",
    "Where $\\phi$ is $tanh$"
   ]
  },
  {
   "cell_type": "code",
   "execution_count": 312,
   "id": "a03aa850",
   "metadata": {},
   "outputs": [],
   "source": [
    "def f(x, weights):\n",
    "    return weights[0]*np.tanh(weights[1]*x[0] + weights[2]*x[1] + weights[3]*x[2] + weights[4]) + \\\n",
    "            weights[5]*np.tanh(weights[6]*x[0] + weights[7]*x[1] + weights[8]*x[2] + weights[9]) + \\\n",
    "            weights[10]*np.tanh(weights[11]*x[0] + weights[12]*x[1] + weights[13]*x[2] + weights[14]) + weights[15]\n",
    "\n",
    "def f_vector(data, weights):\n",
    "    result = np.empty((0,))\n",
    "    for x in data:\n",
    "        result = np.concatenate((result, np.asarray([f(x, weights)])))\n",
    "    return result"
   ]
  },
  {
   "cell_type": "markdown",
   "id": "862010df",
   "metadata": {},
   "source": [
    "$g\\_tanh$ will find the gradient of $f(\\text{x})$ with the gradient vector defined as the following:\n",
    "$$\\nabla_{\\textbf{w}} = \\begin{bmatrix} \\frac{\\partial}{\\partial w_1} & \\frac{\\partial}{\\partial w_2} & ... & \\frac{\\partial}{\\partial w_{16}} \\end{bmatrix}$$ "
   ]
  },
  {
   "cell_type": "code",
   "execution_count": 313,
   "id": "f4635987",
   "metadata": {},
   "outputs": [],
   "source": [
    "def g_tanh(x, weights):\n",
    "    return np.asarray([\n",
    "        np.tanh(weights[1]*x[0] + weights[2]*x[1] + weights[3]*x[2] + weights[4]),\n",
    "        weights[0]*x[0] * d_tanh(weights[1]*x[0] + weights[2]*x[1] + weights[3]*x[2] + weights[4]),\n",
    "        weights[0]*x[1] * d_tanh(weights[1]*x[0] + weights[2]*x[1] + weights[3]*x[2] + weights[4]),\n",
    "        weights[0]*x[2] * d_tanh(weights[1]*x[0] + weights[2]*x[1] + weights[3]*x[2] + weights[4]),\n",
    "        weights[0] * d_tanh(weights[1]*x[0] + weights[2]*x[1] + weights[3]*x[2] + weights[4]),\n",
    "        np.tanh(weights[6]*x[0] + weights[7]*x[1] + weights[8]*x[2] + weights[9]),\n",
    "        weights[5]*x[0] * d_tanh(weights[6]*x[0] + weights[7]*x[1] + weights[8]*x[2] + weights[9]),\n",
    "        weights[5]*x[1] * d_tanh(weights[6]*x[0] + weights[7]*x[1] + weights[8]*x[2] + weights[9]),\n",
    "        weights[5]*x[2] * d_tanh(weights[6]*x[0] + weights[7]*x[1] + weights[8]*x[2] + weights[9]),\n",
    "        weights[5] * d_tanh(weights[6]*x[0] + weights[7]*x[1] + weights[8]*x[2] + weights[9]),\n",
    "        np.tanh(weights[11]*x[0] + weights[12]*x[1] + weights[13]*x[2] + weights[14]),\n",
    "        weights[10]*x[0] * d_tanh(weights[11]*x[0] + weights[12]*x[1] + weights[13]*x[2] + weights[14]),\n",
    "        weights[10]*x[1] * d_tanh(weights[11]*x[0] + weights[12]*x[1] + weights[13]*x[2] + weights[14]),\n",
    "        weights[10]*x[2] * d_tanh(weights[11]*x[0] + weights[12]*x[1] + weights[13]*x[2] + weights[14]),\n",
    "        weights[10] * d_tanh(weights[11]*x[0] + weights[12]*x[1] + weights[13]*x[2] + weights[14]),\n",
    "        1\n",
    "    ])"
   ]
  },
  {
   "cell_type": "markdown",
   "id": "d58bab74",
   "metadata": {},
   "source": [
    "The $gradient\\_matrix$ function will compute the gradient matrix:\n",
    "$$\\begin{bmatrix}\n",
    "(\\nabla_{\\textbf{w}}f_{\\textbf{w}}(\\textbf{x}^{(1)}))^T \\\\ (\\nabla_{\\textbf{w}}f_{\\textbf{w}}(\\textbf{x}^{(2)}))^T \\\\ ... \\\\ (\\nabla_{\\textbf{w}}f_{\\textbf{w}}(\\textbf{x}^{(n)}))^T\n",
    "\\end{bmatrix}$$"
   ]
  },
  {
   "cell_type": "code",
   "execution_count": 314,
   "id": "dfabac46",
   "metadata": {},
   "outputs": [],
   "source": [
    "def gradient_matrix(data, weights):\n",
    "    jacobian = np.empty((0, weights.shape[0]))\n",
    "    for x in data:\n",
    "        jacobian = np.vstack((jacobian, g_tanh(x, weights)))\n",
    "    return jacobian"
   ]
  },
  {
   "cell_type": "code",
   "execution_count": 315,
   "id": "0cb347ef",
   "metadata": {},
   "outputs": [],
   "source": [
    "def find_weights(data, expected, weights=None, lamb=0.00001, first_step=1, variation=1):\n",
    "    weights = np.random.normal(0, variation, (16,))\n",
    "    trust=0.8\n",
    "    distrust = 2\n",
    "    err = np.sum((f_vector(data, weights) - expected)**2)+lamb*np.linalg.norm(weights)\n",
    "    step = first_step\n",
    "    steps = [step]\n",
    "    errs = [err]\n",
    "    # while np.linalg.norm(2*gradient.T@expected) < threshold:\n",
    "    while (len(errs) == 0 or err > 0.05) and len(errs) < 500:\n",
    "        # this part of the code will convert the program to a least squares problem\n",
    "        # First find the gradient matrix\n",
    "        jacobian = gradient_matrix(data, weights)\n",
    "\n",
    "        #Initialize a column vector with the expected values with the given weights\n",
    "        predicted = f_vector(data, weights)\n",
    "        # Find the value we are trying to project\n",
    "        y = predicted - expected - jacobian @ weights\n",
    "        y = np.concatenate((y, np.zeros((weights.shape))), axis=0)\n",
    "        y = np.concatenate((y, -1*np.sqrt(step)*weights), axis=0)\n",
    "        \n",
    "        # Create the range space by appending the trust value to the gradient matrix\n",
    "        A = np.concatenate((jacobian, np.sqrt(lamb)*np.identity(jacobian.shape[1])), axis=0)\n",
    "        A = np.concatenate((A, np.sqrt(step)*np.identity(jacobian.shape[1])), axis=0)\n",
    "\n",
    "        # Solve least squares problem\n",
    "        new_weights = np.linalg.pinv(A)@y\n",
    "        # Calculate the error for newly create weights from solving least squares problem\n",
    "        new_err = np.sum((f_vector(data, new_weights) - expected)**2)+lamb*np.linalg.norm(new_weights)\n",
    "        \n",
    "        # print(err, end=' ')\n",
    "        # print(new_err)\n",
    "        # Check if the new error is less than the previous error, otherwise, increase lamba\n",
    "        if new_err < err:\n",
    "            weights = new_weights\n",
    "            err = new_err\n",
    "            step = trust*step\n",
    "        else:\n",
    "            step = distrust*step\n",
    "\n",
    "        # add step and error values to the list for plotting\n",
    "        steps.append(step)\n",
    "        errs.append(err)\n",
    "    # record training loss for last iteration\n",
    "    return errs, steps, weights"
   ]
  },
  {
   "cell_type": "markdown",
   "id": "72f5c93c",
   "metadata": {},
   "source": [
    "## The Levenberg-Marquardt Algorithm"
   ]
  },
  {
   "cell_type": "code",
   "execution_count": 316,
   "id": "d938f39d",
   "metadata": {},
   "outputs": [],
   "source": [
    "# set up variables (trust is set to an arbitrary value for now)\n",
    "data, expected = generate_data_1(500, 1)"
   ]
  },
  {
   "cell_type": "code",
   "execution_count": 317,
   "id": "5fbd21a8",
   "metadata": {
    "scrolled": true
   },
   "outputs": [],
   "source": [
    "errs, steps, weights = find_weights(data, expected)"
   ]
  },
  {
   "cell_type": "code",
   "execution_count": 321,
   "id": "c437c57d",
   "metadata": {},
   "outputs": [
    {
     "data": {
      "text/plain": [
       "Text(0, 0.5, 'Training Loss')"
      ]
     },
     "execution_count": 321,
     "metadata": {},
     "output_type": "execute_result"
    },
    {
     "data": {
      "image/png": "[encoded data removed]",
      "text/plain": [
       "<Figure size 2000x2000 with 3 Axes>"
      ]
     },
     "metadata": {},
     "output_type": "display_data"
    }
   ],
   "source": [
    "fig, arr = plt.subplots(3,1)\n",
    "fig.set_size_inches(20, 20)\n",
    "arr[0].plot(errs)\n",
    "arr[0].set_title('Training Loss over Iterations')\n",
    "arr[0].set_xlabel('Iterations')\n",
    "arr[0].set_ylabel('Training Loss')\n",
    "arr[1].plot(steps)\n",
    "arr[1].set_title('Steps over Iterations')\n",
    "arr[1].set_xlabel('Iterations')\n",
    "arr[1].set_ylabel('Step Value')\n",
    "arr[2].plot(errs[10:])\n",
    "arr[2].set_title('Training Loss over Iterations after 10 Iterations')\n",
    "arr[2].set_xlabel('Iterations')\n",
    "arr[2].set_ylabel('Training Loss')"
   ]
  },
  {
   "cell_type": "code",
   "execution_count": 322,
   "id": "ec65972d",
   "metadata": {},
   "outputs": [],
   "source": [
    "min_weights = np.array([ 7.55512061e+00, -2.60216163e-01,  3.52091706e-01,  2.12502676e-03,\n",
    "        7.13167825e-01, -1.61384237e+01, -1.58400957e-01, -3.67673802e-03,\n",
    "       -6.24380443e-02, -1.92238017e-02, -8.09838887e+00,  2.56011179e-01,\n",
    "        3.38473451e-01,  1.56088103e-03,  7.08556801e-01, -2.40282834e-04])"
   ]
  },
  {
   "cell_type": "code",
   "execution_count": 326,
   "id": "61567448",
   "metadata": {},
   "outputs": [
    {
     "data": {
      "text/plain": [
       "0.045126720873748215"
      ]
     },
     "execution_count": 326,
     "metadata": {},
     "output_type": "execute_result"
    }
   ],
   "source": [
    "np.sum((f_vector(data, min_weights) - expected)**2)"
   ]
  },
  {
   "cell_type": "markdown",
   "id": "7a87a29e",
   "metadata": {},
   "source": [
    "## Testing the Model on different $\\Gamma$ and $\\lambda$"
   ]
  },
  {
   "cell_type": "markdown",
   "id": "e7a2fc1f",
   "metadata": {},
   "source": [
    "The following code will attempt the Levenburg Marquadt Algorithm on varying values of $\\Gamma$ which was the limiting value for the magnitudes of input values."
   ]
  },
  {
   "cell_type": "code",
   "execution_count": null,
   "id": "e897145d",
   "metadata": {
    "scrolled": false
   },
   "outputs": [],
   "source": [
    "gammas = [i/2 for i in range(1, 30)]\n",
    "avg_errs = []\n",
    "for i in range(len(gammas)):\n",
    "    errs = []\n",
    "    for j in range(20):\n",
    "        data_new, data_expected = generate_data_1(100, gammas[i])\n",
    "        err = 0\n",
    "        for k in range(len(data_new)):\n",
    "            err += np.square(f(data_new[k], weights) - data_expected[k])\n",
    "        errs.append(err)\n",
    "    avg_errs.append(sum(errs)/len(errs))\n",
    "\n",
    "fig, arr = plt.subplots(1)\n",
    "arr.plot(gammas, avg_errs)\n",
    "arr.set_title(\"Error vs Gamma value\")\n",
    "arr.set_xlabel('gamma')\n",
    "arr.set_ylabel('error')\n",
    "\n",
    "plt.show()"
   ]
  },
  {
   "cell_type": "markdown",
   "id": "19ca4521",
   "metadata": {},
   "source": [
    "The following code will attempt the Levenburg Marquadt Algorithm on varying values of $\\lambda$  which was the limiting value for the magnitudes of input values."
   ]
  },
  {
   "cell_type": "code",
   "execution_count": null,
   "id": "561e1bbb",
   "metadata": {},
   "outputs": [],
   "source": [
    "starts = [0.1, 0.5, 0.8, 1.0, 1.5, 2.0]\n",
    "# fig, arr = plt.subplots(len(starts),2)\n",
    "# fig.set_size_inches(20, 10)\n",
    "fig, arr = plt.subplots(1)\n",
    "fig.set_size_inches(20, 10)\n",
    "avgs = []\n",
    "for i in range(len(starts)):\n",
    "    iterations = []\n",
    "    for j in range(10):\n",
    "        weights = np.random.normal(0,1, (16,))\n",
    "        err = sum([np.square(f(x, weights)) for x in data])\n",
    "        step = starts[i]\n",
    "        steps = [step]\n",
    "        errs = [err]\n",
    "        # while np.linalg.norm(2*gradient.T@expected) < threshold:\n",
    "        while err > 0.00001:\n",
    "            try:\n",
    "                if err > 1000000:\n",
    "                    raise DivergenceException\n",
    "                if len(errs) > 100:\n",
    "                    steps = []\n",
    "                    errs = []\n",
    "                    break\n",
    "                # convert to least squares\n",
    "                gradient = gradient_matrix(data, weights)\n",
    "\n",
    "                expected = np.empty((0,))\n",
    "                for x in data:\n",
    "                    expected = np.concatenate((expected, [f(x, weights)]), axis=0)\n",
    "\n",
    "                y = expected - gradient @ weights\n",
    "\n",
    "\n",
    "                y = np.concatenate((y, -1*np.sqrt(step)*weights), axis=0)\n",
    "                A = np.concatenate((gradient, np.sqrt(step)*np.identity(gradient.shape[1])), axis=0)\n",
    "\n",
    "                new_weights = np.linalg.pinv(A)@y\n",
    "                new_err = sum([np.square(f(data[i], new_weights) - y[i]) for i in range(len(data))])\n",
    "                if new_err < err:\n",
    "                    weights = new_weights\n",
    "                    err = new_err\n",
    "                    step = trust*step\n",
    "                else:\n",
    "                    step = distrust*step\n",
    "                steps.append(step)\n",
    "                errs.append(err)\n",
    "            except KeyboardInterrupt:\n",
    "                break\n",
    "            except:\n",
    "                print(\"Calculations Diverged\")\n",
    "                weights = np.random.normal(0,1, (16,))\n",
    "                err = sum([np.square(f(x, weights)) for x in data])\n",
    "                step = starts[i]\n",
    "                steps = [step]\n",
    "                errs = [err]\n",
    "                # step = 1\n",
    "                # steps.append(step)\n",
    "                # errs.append(err)\n",
    "        iterations.append(len(errs))\n",
    "        # arr[i][0].plot(errs)\n",
    "        # arr[i][1].plot(steps)\n",
    "    # arr[i][0].text(1, 9*max(errs)/10, str(sum(iterations)/len(iterations)), fontsize=10)\n",
    "    avgs.append(sum(iterations)/len(iterations))\n",
    "# arr[0][0].set_title('Errors over Gamma Values')\n",
    "# arr[0][1].set_title('Steps over Gamma Values')\n",
    "arr.plot(starts, avgs)\n",
    "arr.set_title(\"Lambda vs Number of Iterations\")\n",
    "arr.set_xlabel('Lambda')\n",
    "arr.set_ylabel('Number of Iterations')"
   ]
  },
  {
   "cell_type": "markdown",
   "id": "c2e7031d",
   "metadata": {},
   "source": [
    "## New Non-Linear Function: $[x]_1 - [x]_2[x]_3$"
   ]
  },
  {
   "cell_type": "code",
   "execution_count": null,
   "id": "3772d91e",
   "metadata": {},
   "outputs": [],
   "source": [
    "def generate_data_2(n, gamma):\n",
    "    data = np.empty((0,3))\n",
    "    out = np.empty((0,1))\n",
    "    for i in range(n):\n",
    "        x = np.random.uniform(-gamma, gamma, (3,))\n",
    "        data = np.vstack((data,x))\n",
    "        out = np.append(out,[x[0]-x[1]*x[2]])\n",
    "    return data, out"
   ]
  },
  {
   "cell_type": "code",
   "execution_count": null,
   "id": "6c52539e",
   "metadata": {},
   "outputs": [],
   "source": [
    "# set up variables\n",
    "data, expected = generate_data_2(500, 1)\n",
    "weights = np.random.normal(0,1,(16,))"
   ]
  },
  {
   "cell_type": "code",
   "execution_count": null,
   "id": "79cd743e",
   "metadata": {},
   "outputs": [],
   "source": [
    "err = sum([np.square(f(x, weights)) for x in data])\n",
    "step = 0.00001\n",
    "trust = 0.8\n",
    "distrust = 2\n",
    "threshold = 0.01\n",
    "steps = [step]\n",
    "errs = [err]"
   ]
  },
  {
   "cell_type": "code",
   "execution_count": null,
   "id": "34d3963a",
   "metadata": {},
   "outputs": [],
   "source": [
    "\n",
    "# while np.linalg.norm(2*gradient.T@expected) < threshold:\n",
    "while err > 0.00001:\n",
    "    try:\n",
    "        if err > 1000000:\n",
    "            raise DivergenceException\n",
    "        # convert to least squares\n",
    "        gradient = gradient_matrix(data, weights)\n",
    "\n",
    "        expected = np.empty((0,))\n",
    "        for x in data:\n",
    "            expected = np.concatenate((expected, [f(x, weights)]), axis=0)\n",
    "\n",
    "        y = expected - gradient @ weights\n",
    "\n",
    "\n",
    "        y = np.concatenate((y, -1*np.sqrt(step)*weights), axis=0)\n",
    "        A = np.concatenate((gradient, np.sqrt(step)*np.identity(gradient.shape[1])), axis=0)\n",
    "\n",
    "        new_weights = np.linalg.pinv(A)@y\n",
    "        new_err = sum([np.square(f(data[i], new_weights) - y[i]) for i in range(len(data))])\n",
    "        if new_err < err:\n",
    "            weights = new_weights\n",
    "            err = new_err\n",
    "            step = trust*step\n",
    "        else:\n",
    "            step = distrust*step\n",
    "        steps.append(step)\n",
    "        errs.append(err)\n",
    "    except KeyboardInterrupt:\n",
    "        break\n",
    "    except:\n",
    "        print(\"Calculations Diverged\")\n",
    "        weights = np.random.normal(0,1, (16,))\n",
    "        err = sum([np.square(f(x, weights)) for x in data])\n",
    "        step = 0.00001\n",
    "        steps = [step]\n",
    "        errs = [err]\n",
    "        # step = 1\n",
    "        # steps.append(step)\n",
    "        # errs.append(err)"
   ]
  },
  {
   "cell_type": "code",
   "execution_count": null,
   "id": "22affd18",
   "metadata": {},
   "outputs": [],
   "source": [
    "fig, arr = plt.subplots(2,1)\n",
    "fig.set_size_inches(20, 10)\n",
    "arr[0].plot(errs)\n",
    "arr[0].set_title('Errors over Iterations')\n",
    "arr[1].plot(steps)\n",
    "arr[1].set_title('Steps over Iterations')"
   ]
  },
  {
   "cell_type": "markdown",
   "id": "1c2ae0de",
   "metadata": {},
   "source": [
    "## Noisy Data Training"
   ]
  },
  {
   "cell_type": "code",
   "execution_count": null,
   "id": "5998a230",
   "metadata": {},
   "outputs": [],
   "source": [
    "data, expected = generate_data_1(500, 1)\n",
    "weights = np.random.normal(0,1,(16,))"
   ]
  },
  {
   "cell_type": "code",
   "execution_count": null,
   "id": "799a121d",
   "metadata": {},
   "outputs": [],
   "source": [
    "err = sum([np.square(f(x, weights)) for x in data])\n",
    "step = 0.00001\n",
    "trust = 0.8\n",
    "distrust = 2\n",
    "threshold = 0.01\n",
    "steps = [step]\n",
    "errs = [err]"
   ]
  },
  {
   "cell_type": "code",
   "execution_count": null,
   "id": "ed13da7b",
   "metadata": {},
   "outputs": [],
   "source": [
    "# add noise\n",
    "norms = [0, 0.1, 0.2, 0.5, 1.0, 2.0, 5.0, 10.0, 20.0, 50.0]\n",
    "\n",
    "fig, arr = plt.subplots(1)\n",
    "fig.set_size_inches(20, 10)\n",
    "avgs = []\n",
    "for i in range(len(starts)):\n",
    "    iterations = []\n",
    "    for j in range(10):\n",
    "        noise = np.random.normal(0,1, data.shape)\n",
    "        data_noisy = data + noise * norms[i] / np.linalg.norm(noise)\n",
    "        weights = np.random.normal(0,1, (16,))\n",
    "        err = sum([np.square(f(x, weights)) for x in data_noisy])\n",
    "        step = starts[i]\n",
    "        steps = [step]\n",
    "        errs = [err]\n",
    "        # while np.linalg.norm(2*gradient.T@expected) < threshold:\n",
    "        while err > 0.00001:\n",
    "            try:\n",
    "                if err > 1000000:\n",
    "                    raise DivergenceException\n",
    "                if len(errs) > 100:\n",
    "                    steps = []\n",
    "                    errs = []\n",
    "                    break\n",
    "                # convert to least squares\n",
    "                gradient = gradient_matrix(data_noisy, weights)\n",
    "\n",
    "                expected = np.empty((0,))\n",
    "                for x in data_noisy:\n",
    "                    expected = np.concatenate((expected, [f(x, weights)]), axis=0)\n",
    "\n",
    "                y = expected - gradient @ weights\n",
    "                \n",
    "                y = np.concatenate((y, -1*np.sqrt(step)*weights), axis=0)\n",
    "                A = np.concatenate((gradient, np.sqrt(step)*np.identity(gradient.shape[1])), axis=0)\n",
    "\n",
    "                new_weights = np.linalg.pinv(A)@y\n",
    "                new_err = sum([np.square(f(data[i], new_weights) - y[i]) for i in range(len(data_noisy))])\n",
    "                if new_err < err:\n",
    "                    weights = new_weights\n",
    "                    err = new_err\n",
    "                    step = trust*step\n",
    "                else:\n",
    "                    step = distrust*step\n",
    "                steps.append(step)\n",
    "                errs.append(err)\n",
    "            except KeyboardInterrupt:\n",
    "                break\n",
    "            except:\n",
    "                print(\"Calculations Diverged\")\n",
    "                weights = np.random.normal(0,1, (16,))\n",
    "                err = sum([np.square(f(x, weights)) for x in data])\n",
    "                step = starts[i]\n",
    "                steps = [step]\n",
    "                errs = [err]\n",
    "                # step = 1\n",
    "                # steps.append(step)\n",
    "                # errs.append(err)\n",
    "        iterations.append(len(errs))\n",
    "        # arr[i][0].plot(errs)\n",
    "        # arr[i][1].plot(steps)\n",
    "    # arr[i][0].text(1, 9*max(errs)/10, str(sum(iterations)/len(iterations)), fontsize=10)\n",
    "    avgs.append(sum(iterations)/len(iterations))\n",
    "# arr[0][0].set_title('Errors over Gamma Values')\n",
    "# arr[0][1].set_title('Steps over Gamma Values')\n",
    "arr.plot(starts, avgs)"
   ]
  },
  {
   "cell_type": "markdown",
   "id": "6834362a",
   "metadata": {},
   "source": [
    "## Visualization "
   ]
  },
  {
   "cell_type": "markdown",
   "id": "5caafd79",
   "metadata": {},
   "source": [
    "Create a set of $\\textbf{x}$ such that $[x]_1[x]_2+[x]_3=\\rho$\n",
    "Or in other words:\n",
    "$$[x]_3=\\rho - [x]_1[x]_2$$"
   ]
  },
  {
   "cell_type": "code",
   "execution_count": null,
   "id": "8fbc4b5d",
   "metadata": {},
   "outputs": [],
   "source": [
    "rho = 0"
   ]
  },
  {
   "cell_type": "markdown",
   "id": "03ef8b5a",
   "metadata": {},
   "source": [
    "The model will provide the following about $\\textbf{x}$\n",
    "$$ [x]_1[x]_2+[x]_3 = f_{\\textbf{w}}(\\textbf{x})$$\n",
    "Since in most cases $f_{\\textbf{w}}(\\textbf{x}) \\neq 0$, we can calculate how much residuals exist bectween $f_{\\textbf{w}}(\\textbf{x})$ and $\\rho$ by solving for $[x]_3$ in the equation above. Initially, we know that $[x]_!$ and $[x]_2$ are consistently throughout every single equation.\n",
    "Redefine the equation from provided by the model and solve for $[x]_3'$\n",
    "$$ [x]_1[x]_2+[x]_3' = f_{\\textbf{w}}(\\textbf{x})$$\n",
    "$$ [x]_3' = f_{\\textbf{w}}(\\textbf{x}) - [x]_1[x]_2$$\n"
   ]
  },
  {
   "cell_type": "code",
   "execution_count": null,
   "id": "40339d0a",
   "metadata": {
    "scrolled": true
   },
   "outputs": [],
   "source": [
    "fig = plt.figure()\n",
    "ax = fig.add_subplot(projection='3d')\n",
    "\n",
    "data = np.random.normal(0,1,(100,2))\n",
    "data_expected = np.concatenate((data, np.reshape(rho-np.multiply(data[:,0],data[:,1]), (100,1))), axis=1)\n",
    "# print(np.multiply(data_expected[:,0], data_expected[:,1])+data_expected[:,2])\n",
    "\n",
    "x1 = data_expected[:,0]\n",
    "y1 = data_expected[:,1]\n",
    "z1 = data_expected[:,2]\n",
    "ax.scatter(x1, y1, z1, marker=\"^\")\n",
    "\n",
    "# compute fw\n",
    "data_predicted = np.empty((0,1))\n",
    "for row in data_expected:\n",
    "    data_predicted = np.vstack((data_predicted, f(row, basic_weights)))\n",
    "x2 = data_expected[:,0]\n",
    "y2 = data_expected[:,1]\n",
    "z2 = data_expected[:,2] + data_predicted[:,0]\n",
    "\n",
    "err = np.sum(np.square(z2 - z1))\n",
    "\n",
    "ax.scatter(x2, y2, z2, marker=\"^\", c='red')\n",
    "\n",
    "ax.set_xlabel('[x]1')\n",
    "ax.set_ylabel('[x]2')\n",
    "ax.set_zlabel('[x]3')\n",
    "ax.set_title('Values of X, Average Sq err = ' + str(err))\n",
    "plt.show()"
   ]
  },
  {
   "cell_type": "code",
   "execution_count": null,
   "id": "65bbdc01",
   "metadata": {},
   "outputs": [],
   "source": []
  }
 ],
 "metadata": {
  "kernelspec": {
   "display_name": "Python 3 (ipykernel)",
   "language": "python",
   "name": "python3"
  },
  "language_info": {
   "codemirror_mode": {
    "name": "ipython",
    "version": 3
   },
   "file_extension": ".py",
   "mimetype": "text/x-python",
   "name": "python",
   "nbconvert_exporter": "python",
   "pygments_lexer": "ipython3",
   "version": "3.10.8"
  }
 },
 "nbformat": 4,
 "nbformat_minor": 5
}
